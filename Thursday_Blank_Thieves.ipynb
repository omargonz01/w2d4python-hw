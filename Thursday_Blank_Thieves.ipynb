{
 "cells": [
  {
   "cell_type": "markdown",
   "metadata": {},
   "source": [
    "# Object-Oriented-Programming (OOP)"
   ]
  },
  {
   "cell_type": "markdown",
   "metadata": {},
   "source": [
    "## Tasks Today:\n",
    "\n",
    "   \n",
    "\n",
    "1) <b>Creating a Class (Initializing/Declaring)</b> <br>\n",
    "2) <b>Using a Class (Instantiating)</b> <br>\n",
    " &nbsp;&nbsp;&nbsp;&nbsp; a) Creating One Instance <br>\n",
    " &nbsp;&nbsp;&nbsp;&nbsp; b) Creating Multiple Instances <br>\n",
    " &nbsp;&nbsp;&nbsp;&nbsp; c) In-Class Exercise #1 - Create a Class 'Car' and instantiate three different makes of cars <br>\n",
    "3) <b>The \\__init\\__() Method</b> <br>\n",
    " &nbsp;&nbsp;&nbsp;&nbsp; a) The 'self' Attribute <br>\n",
    "4) <b>Class Attributes</b> <br>\n",
    " &nbsp;&nbsp;&nbsp;&nbsp; a) Initializing Attributes <br>\n",
    " &nbsp;&nbsp;&nbsp;&nbsp; b) Setting an Attribute Outside of the \\__init\\__() Method <br>\n",
    " &nbsp;&nbsp;&nbsp;&nbsp; c) Setting Defaults for Attributes <br>\n",
    " &nbsp;&nbsp;&nbsp;&nbsp; d) Accessing Class Attributes <br>\n",
    " &nbsp;&nbsp;&nbsp;&nbsp; e) Changing Class Attributes <br>\n",
    " &nbsp;&nbsp;&nbsp;&nbsp; f) In-Class Exercise #2 - Add a color and wheels attribute to your 'Car' class <br>\n",
    "5) <b>Class Methods</b> <br>\n",
    " &nbsp;&nbsp;&nbsp;&nbsp; a) Creating <br>\n",
    " &nbsp;&nbsp;&nbsp;&nbsp; b) Calling <br>\n",
    " &nbsp;&nbsp;&nbsp;&nbsp; c) Modifying an Attribute's Value Through a Method <br>\n",
    " &nbsp;&nbsp;&nbsp;&nbsp; d) Incrementing an Attribute's Value Through a Method <br>\n",
    " &nbsp;&nbsp;&nbsp;&nbsp; e) In-Class Exercise #3 - Add a method that prints the cars color and wheel number, then call them <br>\n",
    "6) <b>Inheritance</b> <br>\n",
    " &nbsp;&nbsp;&nbsp;&nbsp; a) Syntax for Inheriting from a Parent Class <br>\n",
    " &nbsp;&nbsp;&nbsp;&nbsp; b) The \\__init\\__() Method for a Child Class (super()) <br>\n",
    " &nbsp;&nbsp;&nbsp;&nbsp; c) Defining Attributes and Methods for the Child Class <br>\n",
    " &nbsp;&nbsp;&nbsp;&nbsp; d) Method Overriding <br>\n",
    " &nbsp;&nbsp;&nbsp;&nbsp; e) In-Class Exercise #4 - Create a class 'Ford' that inherits from 'Car' class and initialize it as a Blue Ford Explorer with 4 wheels using the super() method <br>\n",
    "7) <b>Classes as Attributes</b> <br>\n",
    "8) <b>Exercises</b> <br>\n",
    " &nbsp;&nbsp;&nbsp;&nbsp; a) Exercise #1 - Turn the shopping cart program from yesterday into an object-oriented program <br>"
   ]
  },
  {
   "cell_type": "markdown",
   "metadata": {},
   "source": [
    "## Creating a Class (Initializing/Declaring)\n",
    "<p>When creating a class, function, or even a variable you are initializing that object. Initializing and Declaring occur at the same time in Python, whereas in lower level languages you have to declare an object before initializing it. This is the first step in the process of using a class.</p>"
   ]
  },
  {
   "cell_type": "code",
   "execution_count": 13,
   "metadata": {},
   "outputs": [],
   "source": [
    "class car():\n",
    "    wheels = 4\n",
    "    color = 'blue'\n",
    "    \n"
   ]
  },
  {
   "cell_type": "markdown",
   "metadata": {},
   "source": [
    "## Using a Class (Instantiating)\n",
    "<p>The process of creating a class is called <i>Instantiating</i>. Each time you create a variable of that type of class, it is referred to as an <i>Instance</i> of that class. This is the second step in the process of using a class.</p>"
   ]
  },
  {
   "cell_type": "markdown",
   "metadata": {},
   "source": []
  },
  {
   "cell_type": "markdown",
   "metadata": {},
   "source": [
    "##### Creating One Instance"
   ]
  },
  {
   "cell_type": "code",
   "execution_count": 14,
   "metadata": {},
   "outputs": [
    {
     "name": "stdout",
     "output_type": "stream",
     "text": [
      "blue\n"
     ]
    }
   ],
   "source": [
    "ford = car()\n",
    "\n",
    "# print(ford.wheels)\n",
    "\n",
    "print(ford.color)\n",
    "\n",
    "# you can receylce this class to create more and more objesct \n",
    "# in social media, a user is a class of a user \n",
    "\n",
    "\n",
    "#they are parts of user object in the user class\n",
    "\n",
    "\n"
   ]
  },
  {
   "cell_type": "markdown",
   "metadata": {},
   "source": [
    "##### Creating Multiple Instances"
   ]
  },
  {
   "cell_type": "code",
   "execution_count": 15,
   "metadata": {},
   "outputs": [
    {
     "name": "stdout",
     "output_type": "stream",
     "text": [
      "<__main__.car object at 0x000001D4AA3A4C50>\n"
     ]
    }
   ],
   "source": [
    "nissan = car()\n",
    "chevy = car()\n",
    "\n",
    "print(nissan)\n",
    "\n"
   ]
  },
  {
   "cell_type": "markdown",
   "metadata": {},
   "source": [
    "##### In-Class Exercise #1 - Create a Class 'Car' and Instantiate three different makes of cars"
   ]
  },
  {
   "cell_type": "code",
   "execution_count": 16,
   "metadata": {},
   "outputs": [
    {
     "ename": "TypeError",
     "evalue": "Car.__init__() missing 4 required positional arguments: 'make', 'model', 'color', and 'engine'",
     "output_type": "error",
     "traceback": [
      "\u001b[1;31m---------------------------------------------------------------------------\u001b[0m",
      "\u001b[1;31mTypeError\u001b[0m                                 Traceback (most recent call last)",
      "Cell \u001b[1;32mIn[16], line 1\u001b[0m\n\u001b[1;32m----> 1\u001b[0m \u001b[39mclass\u001b[39;49;00m \u001b[39mcar\u001b[39;49;00m():\n\u001b[0;32m      2\u001b[0m     chevy \u001b[39m=\u001b[39;49m Car()\n\u001b[0;32m      4\u001b[0m     ford \u001b[39m=\u001b[39;49m Car()\n",
      "Cell \u001b[1;32mIn[16], line 2\u001b[0m, in \u001b[0;36mcar\u001b[1;34m()\u001b[0m\n\u001b[0;32m      1\u001b[0m \u001b[39mclass\u001b[39;00m \u001b[39mcar\u001b[39;00m():\n\u001b[1;32m----> 2\u001b[0m     chevy \u001b[39m=\u001b[39m Car()\n\u001b[0;32m      4\u001b[0m     ford \u001b[39m=\u001b[39m Car()\n\u001b[0;32m      6\u001b[0m     toyota \u001b[39m=\u001b[39m Car()\n",
      "\u001b[1;31mTypeError\u001b[0m: Car.__init__() missing 4 required positional arguments: 'make', 'model', 'color', and 'engine'"
     ]
    }
   ],
   "source": [
    "class car():\n",
    "    chevy = Car()\n",
    "\n",
    "    ford = Car()\n",
    "\n",
    "    toyota = Car()\n",
    "\n",
    "print(toyota)"
   ]
  },
  {
   "cell_type": "markdown",
   "metadata": {},
   "source": [
    "## The \\__init\\__() Method <br>\n",
    "<p>This method is used in almost every created class, and called only once upon the creation of the class instance. This method will initialize all variables needed for the object.</p>"
   ]
  },
  {
   "cell_type": "code",
   "execution_count": 17,
   "metadata": {},
   "outputs": [
    {
     "name": "stdout",
     "output_type": "stream",
     "text": [
      "Black\n",
      "White\n",
      "4\n",
      "4\n"
     ]
    }
   ],
   "source": [
    "# you can use this class in multiple instances. the self attribute tells you what instance youre looking at\n",
    "# self is talking about th specific instance youre talking about\n",
    "\n",
    "class Car():\n",
    "    wheels = 4\n",
    "    def __init__(self, make, model, color, engine):\n",
    "        self.make = make\n",
    "        self.model = model\n",
    "        self.color = color\n",
    "        self.engine = engine \n",
    "\n",
    "# self if the current instance i am dealing with\n",
    "nissan = Car('Nissan', 'Altima', 'White', 'v4')\n",
    "\n",
    "ford = Car('Ford', 'Raptor', 'Black', 'v8')\n",
    "\n",
    "#accessing instace attributes\n",
    "print(ford.color)\n",
    "print(nissan.color)\n",
    "\n",
    "#accesing class attributes\n",
    "print(ford.wheels)\n",
    "print(nissan.wheels)"
   ]
  },
  {
   "cell_type": "markdown",
   "metadata": {},
   "source": [
    "##### The 'self' Attribute <br>\n",
    "<p>This attribute is required to keep track of specific instance's attributes. Without the self attribute, the program would not know how to reference or keep track of an instance's attributes.</p>"
   ]
  },
  {
   "cell_type": "code",
   "execution_count": null,
   "metadata": {},
   "outputs": [],
   "source": [
    "# see above\n",
    "# each independant instance you created of your class\n",
    "\n"
   ]
  },
  {
   "cell_type": "markdown",
   "metadata": {},
   "source": [
    "## Class Attributes <br>\n",
    "<p>While variables are inside of a class, they are referred to as attributes and not variables. When someone says 'attribute' you know they're speaking about a class. Attributes can be initialized through the init method, or outside of it.</p>"
   ]
  },
  {
   "cell_type": "markdown",
   "metadata": {},
   "source": [
    "##### Initializing Attributes"
   ]
  },
  {
   "cell_type": "code",
   "execution_count": null,
   "metadata": {},
   "outputs": [],
   "source": [
    "# see above get applied to every instacne of the class\n",
    "\n"
   ]
  },
  {
   "cell_type": "markdown",
   "metadata": {},
   "source": [
    "##### Accessing Class Attributes"
   ]
  },
  {
   "cell_type": "code",
   "execution_count": null,
   "metadata": {
    "scrolled": true
   },
   "outputs": [],
   "source": [
    "# See Above"
   ]
  },
  {
   "cell_type": "markdown",
   "metadata": {},
   "source": [
    "##### Setting Defaults for Attributes"
   ]
  },
  {
   "cell_type": "code",
   "execution_count": 7,
   "metadata": {},
   "outputs": [
    {
     "name": "stdout",
     "output_type": "stream",
     "text": [
      "4\n",
      "2\n",
      "coupe\n"
     ]
    }
   ],
   "source": [
    "class Vehicle:\n",
    "\n",
    "    def __init__(self, make, model, classification, wheels=4):\n",
    "        self.make = make\n",
    "        self.model = model\n",
    "        self.classification = classification \n",
    "        self.wheels = wheels\n",
    "\n",
    "my_car = Vehicle('Hyundai', 'Sonata', 'Sedan')\n",
    "print(my_car.wheels)\n",
    "\n",
    "motorcycle = Vehicle('Harley', 'Fat Bob', 'Motorcyle', 2)\n",
    "print(motorcycle.wheels)\n",
    "\n",
    "\n",
    "#changing an instance attributes\n",
    "my_car.classification = 'coupe'\n",
    "\n",
    "print(my_car.classification)\n",
    "\n"
   ]
  },
  {
   "attachments": {},
   "cell_type": "markdown",
   "metadata": {},
   "source": [
    "##### Changing Instance Attributes <br>\n",
    "<p>Keep in mind there are global class attributes and then there are attributes only available to each class instance which won't effect other classes.</p>"
   ]
  },
  {
   "cell_type": "code",
   "execution_count": null,
   "metadata": {},
   "outputs": [],
   "source": [
    "# see above"
   ]
  },
  {
   "cell_type": "markdown",
   "metadata": {},
   "source": [
    "##### In-Class Exercise #2 - Add a doors and seats attribute to your 'Car' class then print out two different instances with different doors and seats"
   ]
  },
  {
   "cell_type": "code",
   "execution_count": 14,
   "metadata": {},
   "outputs": [
    {
     "name": "stdout",
     "output_type": "stream",
     "text": [
      "5\n",
      "2\n"
     ]
    }
   ],
   "source": [
    "class Car:\n",
    "\n",
    "    def __init__(self, make, model, color, engine, seats, doors):\n",
    "        self.make = make\n",
    "        self.model = model\n",
    "        self.color = color\n",
    "        self.engine = engine\n",
    "        self.seats = seats\n",
    "        self.doors = doors\n",
    "\n",
    "my_whip = Car('hyundai', 'elantra','red', 'v6', 5, 4)\n",
    "print(my_whip.seats)\n",
    "\n",
    "whip_2 = Car('chevy','silverado', 'blue', 'v8',5 ,2 )\n",
    "print(whip_2.doors)\n"
   ]
  },
  {
   "cell_type": "markdown",
   "metadata": {},
   "source": [
    "## Class Methods <br>\n",
    "<p>While inside of a class, functions are referred to as 'methods'. If you hear someone mention methods, they're speaking about classes. Methods are essentially functions, but only callable on the instances of a class.</p>"
   ]
  },
  {
   "cell_type": "markdown",
   "metadata": {},
   "source": [
    "##### Creating"
   ]
  },
  {
   "cell_type": "code",
   "execution_count": 23,
   "metadata": {},
   "outputs": [
    {
     "name": "stdout",
     "output_type": "stream",
     "text": [
      "Yo, yo, my name is Omar and i am 26 years old. I have brown eyes, jelous?\n",
      "just confirming you have changed your name to OG wizard\n",
      "Happy b-day! You are now 27\n"
     ]
    }
   ],
   "source": [
    "class Person():\n",
    "\n",
    "    def __init__(self, name, age, eyecolor='brown'):\n",
    "        self.name = name\n",
    "        self.age = age\n",
    "        self.eyecolor = eyecolor\n",
    "\n",
    "    def get_info(self):\n",
    "        return f'Yo, yo, my name is {self.name} and i am {self.age} years old. I have {self.eyecolor} eyes, jelous?'\n",
    "    \n",
    "    def namechange(self, new_name):\n",
    "        self.name = new_name\n",
    "        print(f'just confirming you have changed your name to {self.name}')\n",
    "\n",
    "    def birthday(self):\n",
    "        self.age += 1\n",
    "        print(f'Happy b-day! You are now {self.age}')\n",
    "\n",
    "    \n",
    "\n",
    "me = Person('Omar', 26)\n",
    "\n",
    "#using the class method\n",
    "print(me.get_info())\n",
    "\n",
    "#modifying the me instance attribute name\n",
    "\n",
    "me.namechange('OG wizard')\n",
    "\n",
    "# incrementing instance 'me' attribure age\n",
    "me.birthday()"
   ]
  },
  {
   "cell_type": "markdown",
   "metadata": {},
   "source": [
    "##### Calling"
   ]
  },
  {
   "cell_type": "code",
   "execution_count": null,
   "metadata": {},
   "outputs": [],
   "source": [
    "# See Above"
   ]
  },
  {
   "cell_type": "markdown",
   "metadata": {},
   "source": [
    "##### Modifying an Attribute's Value Through a Method"
   ]
  },
  {
   "cell_type": "code",
   "execution_count": null,
   "metadata": {},
   "outputs": [],
   "source": [
    "# see above\n"
   ]
  },
  {
   "cell_type": "markdown",
   "metadata": {},
   "source": [
    "##### Incrementing an Attribute's Value Through a Method"
   ]
  },
  {
   "cell_type": "code",
   "execution_count": null,
   "metadata": {},
   "outputs": [],
   "source": [
    "# see above\n"
   ]
  },
  {
   "cell_type": "markdown",
   "metadata": {},
   "source": [
    "## Inheritance <br>\n",
    "<p>You can create a child-parent relationship between two classes by using inheritance. What this allows you to do is have overriding methods, but also inherit traits from the parent class. Think of it as an actual parent and child, the child will inherit the parent's genes, as will the classes in OOP</p>"
   ]
  },
  {
   "cell_type": "markdown",
   "metadata": {},
   "source": [
    "##### Syntax for Inheriting from a Parent Class"
   ]
  },
  {
   "cell_type": "code",
   "execution_count": 25,
   "metadata": {},
   "outputs": [
    {
     "name": "stdout",
     "output_type": "stream",
     "text": [
      "Hello, my name is Nixon, I'm a tan Pomeranian and I have 4 legs.\n",
      "I love breathing air\n"
     ]
    }
   ],
   "source": [
    "class Mammal():\n",
    "    fur = True\n",
    "    def __init__(self, fur_color, species, legs=4):\n",
    "        self.fur_color = fur_color\n",
    "        self.species = species\n",
    "        self.legs = legs\n",
    "    \n",
    "    def breath(self):\n",
    "        return 'I love breathing air'\n",
    "    \n",
    "class Dog(Mammal):\n",
    "    def __init__(self, name, breed, fur_color, legs=4):\n",
    "        super().__init__(fur_color, legs)\n",
    "        self.name = name\n",
    "        self.breed = breed\n",
    "    \n",
    "    def greet(self):\n",
    "        return f'Hello, my name is {self.name}, I\\'m a {self.fur_color} {self.breed} and I have {self.legs} legs.'\n",
    "    \n",
    "my_dog = Dog('Nixon', 'Pomeranian', 'tan')\n",
    "\n",
    "print(my_dog.greet())\n",
    "\n",
    "print(my_dog.breath())\n",
    "\n"
   ]
  },
  {
   "cell_type": "markdown",
   "metadata": {},
   "source": [
    "##### The \\__init\\__() Method for a Child Class - super()"
   ]
  },
  {
   "cell_type": "code",
   "execution_count": null,
   "metadata": {
    "scrolled": true
   },
   "outputs": [],
   "source": [
    "# see above\n",
    "# need to use super( ) to inherit \n",
    "# jsut telling you the way we construct these things is its coming from mammal class"
   ]
  },
  {
   "cell_type": "markdown",
   "metadata": {},
   "source": [
    "##### Defining Attributes and Methods for the Child Class"
   ]
  },
  {
   "cell_type": "code",
   "execution_count": null,
   "metadata": {},
   "outputs": [],
   "source": [
    "# See Above"
   ]
  },
  {
   "cell_type": "markdown",
   "metadata": {},
   "source": [
    "# Exercises"
   ]
  },
  {
   "cell_type": "markdown",
   "metadata": {},
   "source": [
    "### Exercise 1 - Turn the shopping cart program from yesterday into an object-oriented program\n",
    "\n",
    "The comments in the cell below are there as a guide for thinking about the problem. However, if you feel a different way is best for you and your own thought process, please do what feels best for you by all means."
   ]
  },
  {
   "cell_type": "code",
   "execution_count": 10,
   "metadata": {},
   "outputs": [
    {
     "name": "stdout",
     "output_type": "stream",
     "text": [
      "I added 6 weenies to your cart \n",
      "I added 5 buns to your cart \n",
      "This is in your cart: \n",
      "weenies: 6\n",
      "buns: 5\n",
      "I added 3 apples to your cart \n",
      "This is in your cart: \n",
      "weenies: 6\n",
      "buns: 5\n",
      "apples: 3\n",
      "2 apples removed successfully \n",
      "This is in your cart: \n",
      "weenies: 6\n",
      "buns: 5\n",
      "apples: 1\n",
      "This is in your cart: \n",
      "weenies: 6\n",
      "buns: 5\n",
      "apples: 1\n",
      "Thanks buddy! See ya next time!\n",
      "<__main__.ShoppingCart object at 0x000001D68B0E6C10>\n"
     ]
    }
   ],
   "source": [
    "# Create a class called cart that retains items and has methods to add, remove, and show\n",
    "\n",
    "# compare what each function does in each section, translate to oop \n",
    "# yesterdays hw \n",
    "\n",
    "        # def shopping_cart(): # create class ShoppingCart to contain all data \n",
    "        #     cart = {} # for oop approach key differnce is we def attribute self.cart within __init__ to  create empty dict when object created\n",
    "\n",
    "        #     while True: # part of new def start_shopping - can take user input here\n",
    "                        # can use the same while true function with oop \n",
    "                \n",
    "        #         option = input(\"Please choose an option: you can add, del, show, or quit\") # - need to move to its own def so user input is seperate, (add, remove, show)\n",
    "\n",
    "        #         if option == \"add\": # if statement can also be used oop so no need to rethink this line\n",
    "\n",
    "                # -----convert to oop into seperate METHODS of class ShoppingCart methods defined as self in the class\n",
    "\n",
    "        #             item = input(\"Please enter item you wish to add to cart\")  # class attributes.. within class\n",
    "        #             quantity = int(input(\"enter the quantity\")) input will be seperate \n",
    "        #             cart[item] = cart.get(item, 0) + quantity\n",
    "        #             print(f'I added {quantity} {item} to your cart')\n",
    "\n",
    "                    ### replace cart with class attribute self.cart instead -- use self.cart[item] not cart[item] to acces into the cart dictionary inside class methods\n",
    "\n",
    "        #         elif option == \"del\": # same as above but needs the if statement otherwise it will not actually del \n",
    "        #             item = input(\"Please enter item to delete\")\n",
    "        #             if item in cart:\n",
    "        #                 quantity = int(input(\"How many do you want to delete?\")) input should be seperate \n",
    "        #                 cart[item] -= quantity \n",
    "        #                 if quantity <= 0:\n",
    "        #                     del cart[item]\n",
    "                            \n",
    "        #                 print(f\"{quantity} {item} removed successfully\")\n",
    "        #             else:\n",
    "        #                 print(f\"{item} in not in cart\")\n",
    "                \n",
    "        #         # elif option == \"3\":\n",
    "        #         #     print(cart) # loop through list printing each item\n",
    "\n",
    "        #         elif option == \"show\":\n",
    "        #             print(\"This is in your cart\")\n",
    "        #             for item, quantity in cart.items():\n",
    "        #                 print(f'{item} : {quantity}')\n",
    "\n",
    "        #         # elif option == \"4\":\n",
    "        #         #     print(str(cart) + \"thank you, goodbye\")\n",
    "\n",
    "        #         elif option == \"quit\": #\n",
    "        #             print(\"This is in your cart\")\n",
    "        #             for item, quantity in cart.items():\n",
    "        #                 print(f'{item} : {quantity}')\n",
    "        #             break\n",
    "                \n",
    "        #         else:\n",
    "        #             print(\"Invalid Response\")\n",
    "\n",
    "\n",
    "        #     return shopping_cart           \n",
    "\n",
    "        # shopping_cart()\n",
    "\n",
    "class ShoppingCart:\n",
    "\n",
    "    def __init__(self):\n",
    "        self.cart = {} #stored in dictionary\n",
    "    \n",
    "    def add_item(self, item, quantity):\n",
    "        self.cart[item] = self.cart.get(item, 0) + quantity \n",
    "        print(f'I added {quantity} {item} to your cart ')\n",
    "\n",
    "    def remove_item(self, item, quantity):\n",
    "        if item in self.cart:\n",
    "            self.cart[item] -= quantity \n",
    "            if self.cart[item] <=0:\n",
    "                del self.cart[item]\n",
    "            print(f'{quantity} {item} removed successfully ')\n",
    "        else:\n",
    "            print(f'{item} is not in cart wyd fam ')\n",
    "\n",
    "    def show_cart(self):\n",
    "        print('This is in your cart: ')\n",
    "        for item, quantity in self.cart.items():\n",
    "            print(f'{item}: {quantity}')\n",
    "\n",
    "    def shopping_cart(): # forgot need to remove self does not belong here\n",
    "\n",
    "        cart = ShoppingCart()\n",
    "\n",
    "        while True:\n",
    "            option = input('Please select an option: add, del, show, or quit. ')\n",
    "\n",
    "            if option == 'add':\n",
    "                item = input('Enter item you want to add to cart ')\n",
    "                quantity = int(input('Enter the quantity: '))\n",
    "                cart.add_item(item, quantity)\n",
    "\n",
    "            elif option == 'del':\n",
    "                item = input('Enter item you wish to delete:')\n",
    "                quantity = int(input('How many do you want to delete? '))\n",
    "                cart.remove_item(item,quantity)\n",
    "\n",
    "            elif option == 'show':\n",
    "                cart.show_cart()\n",
    "\n",
    "            elif option == 'quit':\n",
    "                cart.show_cart()\n",
    "                print('Thanks buddy! See ya next time!')\n",
    "                break\n",
    "\n",
    "            else:\n",
    "                print(\"Invalid Response\")\n",
    "\n",
    "        return cart \n",
    "    \n",
    "    print(shopping_cart())\n",
    "\n",
    "\n",
    "\n",
    "\n",
    "\n",
    "#  Cell In[3], line 111\n",
    "#     return cart\n",
    "#     ^\n",
    "# SyntaxError: 'return' outside function\n",
    "\n",
    "# Cell In[7], line 62\n",
    "#       1 # Create a class called cart that retains items and has methods to add, remove, and show\n",
    "#       2 \n",
    "#       3 # compare what each function does in each section, translate to oop \n",
    "#    (...)\n",
    "#      59 \n",
    "#      60         # shopping_cart()\n",
    "# ---> 62 class ShoppingCart():\n",
    "#      63     def __init__(self):\n",
    "#      64         self.cart = {}\n",
    "\n",
    "# Cell In[7], line 113, in ShoppingCart()\n",
    "#     110             print(\"Invalid Response\")\n",
    "#     112     return cart \n",
    "# --> 113 print(shopping_cart())\n",
    "\n",
    "# Cell In[7], line 94, in ShoppingCart.shopping_cart()\n",
    "#      92     item = input('Enter item you want to add to cart ')\n",
    "#      93     quantity = int(input('Enter the quantity: '))\n",
    "# ---> 94     self.add_item(item, quantity)\n",
    "#      96 elif option == 'del':\n",
    "#      97     item = input('Enter item you wish to delete:')\n",
    "\n",
    "# NameError: name 'self' is not defined\n",
    "\n",
    "\n",
    "\n",
    "\n",
    "\n",
    "\n",
    "    "
   ]
  },
  {
   "cell_type": "markdown",
   "metadata": {},
   "source": [
    "### Exercise 2 - Write a Python class which has two methods get_String and print_String. get_String accept a string from the user and print_String print the string in upper case"
   ]
  },
  {
   "cell_type": "code",
   "execution_count": 3,
   "metadata": {},
   "outputs": [
    {
     "name": "stdout",
     "output_type": "stream",
     "text": [
      "TESTING TESTING 1234\n"
     ]
    }
   ],
   "source": [
    "# string instance variable that can be set and re set\n",
    "\n",
    "\n",
    "class BasedString:\n",
    "    def __init__(self):\n",
    "        self.input_string = ''\n",
    "\n",
    "    def get_String(self):\n",
    "        self.input_string = input(\"Enter whatever string you want: \")\n",
    "\n",
    "    def print_String(self):\n",
    "        print(self.input_string.upper())\n",
    "\n",
    "\n",
    "my_string = BasedString()\n",
    "\n",
    "my_string.get_String()\n",
    "\n",
    "my_string.print_String()\n",
    "    \n",
    "\n",
    "\n",
    " # <__main__.StringClass object at 0x000001C95640AC90>\n",
    "\n",
    "    \n"
   ]
  }
 ],
 "metadata": {
  "kernelspec": {
   "display_name": "Python 3",
   "language": "python",
   "name": "python3"
  },
  "language_info": {
   "codemirror_mode": {
    "name": "ipython",
    "version": 3
   },
   "file_extension": ".py",
   "mimetype": "text/x-python",
   "name": "python",
   "nbconvert_exporter": "python",
   "pygments_lexer": "ipython3",
   "version": "3.11.4"
  },
  "vscode": {
   "interpreter": {
    "hash": "aa82987a71ca0339a52998cd22613b0c002bda8349fa32a0cb67ceec3936a2bf"
   }
  }
 },
 "nbformat": 4,
 "nbformat_minor": 2
}
